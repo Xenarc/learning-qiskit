{
 "cells": [
  {
   "cell_type": "code",
   "execution_count": 2,
   "id": "a77c2960-a5fd-4319-be2b-7063cf890408",
   "metadata": {},
   "outputs": [],
   "source": [
    "from qiskit import QuantumCircuit, assemble, Aer\n",
    "from qiskit.visualization import plot_histogram"
   ]
  },
  {
   "cell_type": "code",
   "execution_count": 3,
   "id": "9d59b3bf-3d9a-494e-a05b-8a08528977aa",
   "metadata": {},
   "outputs": [],
   "source": [
    "# This creates a quantum circuit with n qubits\n",
    "n = 8\n",
    "qc_output = QuantumCircuit(n)"
   ]
  },
  {
   "cell_type": "markdown",
   "id": "2e9605dd-e803-4b39-a8b2-303990c260b8",
   "metadata": {},
   "source": [
    "### Encode\n",
    "\n",
    "Now that we have a quantum circuit, we have to input data somehow. The initial state (as\n",
    "shown in Chapter 1) is for all bits to be |0>. In order to set an input, we use the X gate.\n",
    "The explanation done below, however this is the first step in all quantum circuits"
   ]
  },
  {
   "cell_type": "code",
   "execution_count": 4,
   "id": "60a393f1-81fb-4792-8af0-258829cad819",
   "metadata": {},
   "outputs": [
    {
     "data": {
      "text/plain": [
       "<qiskit.circuit.instructionset.InstructionSet at 0x7f29a25cdd90>"
      ]
     },
     "execution_count": 4,
     "metadata": {},
     "output_type": "execute_result"
    }
   ],
   "source": [
    "# Here, we add a new step, encoding digits.\n",
    "# The 'X' Gate is the equivilent of a NOT gate in classical Boolean computation.\n",
    "# It simply converts a |0> to a |1>\n",
    "# The 7 in the below line of code corresponds to the 7th qbit.\n",
    "qc_output.x(7)\n",
    "\n",
    "# A quick note: qiskit notates the 0th bit as the right-most digit when outputted. Thus,\n",
    "# the 7 is the first digit"
   ]
  },
  {
   "cell_type": "code",
   "execution_count": 5,
   "id": "881dad2c-eed1-4404-9cd9-5115d598cd11",
   "metadata": {},
   "outputs": [],
   "source": [
    "# Measure the circuit to collapse the quantum states\n",
    "qc_output.measure_all()"
   ]
  },
  {
   "cell_type": "code",
   "execution_count": 6,
   "id": "45b2a78e-0477-426b-ba0c-bb928b1beaad",
   "metadata": {},
   "outputs": [
    {
     "data": {
      "text/html": [
       "<pre style=\"word-wrap: normal;white-space: pre;background: #fff0;line-height: 1.1;font-family: &quot;Courier New&quot;,Courier,monospace\">              ░ ┌─┐                     \n",
       "   q_0: ──────░─┤M├─────────────────────\n",
       "              ░ └╥┘┌─┐                  \n",
       "   q_1: ──────░──╫─┤M├──────────────────\n",
       "              ░  ║ └╥┘┌─┐               \n",
       "   q_2: ──────░──╫──╫─┤M├───────────────\n",
       "              ░  ║  ║ └╥┘┌─┐            \n",
       "   q_3: ──────░──╫──╫──╫─┤M├────────────\n",
       "              ░  ║  ║  ║ └╥┘┌─┐         \n",
       "   q_4: ──────░──╫──╫──╫──╫─┤M├─────────\n",
       "              ░  ║  ║  ║  ║ └╥┘┌─┐      \n",
       "   q_5: ──────░──╫──╫──╫──╫──╫─┤M├──────\n",
       "              ░  ║  ║  ║  ║  ║ └╥┘┌─┐   \n",
       "   q_6: ──────░──╫──╫──╫──╫──╫──╫─┤M├───\n",
       "        ┌───┐ ░  ║  ║  ║  ║  ║  ║ └╥┘┌─┐\n",
       "   q_7: ┤ X ├─░──╫──╫──╫──╫──╫──╫──╫─┤M├\n",
       "        └───┘ ░  ║  ║  ║  ║  ║  ║  ║ └╥┘\n",
       "meas: 8/═════════╩══╩══╩══╩══╩══╩══╩══╩═\n",
       "                 0  1  2  3  4  5  6  7 </pre>"
      ],
      "text/plain": [
       "              ░ ┌─┐                     \n",
       "   q_0: ──────░─┤M├─────────────────────\n",
       "              ░ └╥┘┌─┐                  \n",
       "   q_1: ──────░──╫─┤M├──────────────────\n",
       "              ░  ║ └╥┘┌─┐               \n",
       "   q_2: ──────░──╫──╫─┤M├───────────────\n",
       "              ░  ║  ║ └╥┘┌─┐            \n",
       "   q_3: ──────░──╫──╫──╫─┤M├────────────\n",
       "              ░  ║  ║  ║ └╥┘┌─┐         \n",
       "   q_4: ──────░──╫──╫──╫──╫─┤M├─────────\n",
       "              ░  ║  ║  ║  ║ └╥┘┌─┐      \n",
       "   q_5: ──────░──╫──╫──╫──╫──╫─┤M├──────\n",
       "              ░  ║  ║  ║  ║  ║ └╥┘┌─┐   \n",
       "   q_6: ──────░──╫──╫──╫──╫──╫──╫─┤M├───\n",
       "        ┌───┐ ░  ║  ║  ║  ║  ║  ║ └╥┘┌─┐\n",
       "   q_7: ┤ X ├─░──╫──╫──╫──╫──╫──╫──╫─┤M├\n",
       "        └───┘ ░  ║  ║  ║  ║  ║  ║  ║ └╥┘\n",
       "meas: 8/═════════╩══╩══╩══╩══╩══╩══╩══╩═\n",
       "                 0  1  2  3  4  5  6  7 "
      ]
     },
     "execution_count": 6,
     "metadata": {},
     "output_type": "execute_result"
    }
   ],
   "source": [
    "# Draws the quantum output\n",
    "qc_output.draw()"
   ]
  },
  {
   "cell_type": "code",
   "execution_count": 7,
   "id": "40041b27-fc5f-4733-b958-0d418eca2ace",
   "metadata": {},
   "outputs": [
    {
     "data": {
      "image/png": "[encoded data removed]",
      "text/plain": [
       "<Figure size 504x360 with 1 Axes>"
      ]
     },
     "execution_count": 7,
     "metadata": {},
     "output_type": "execute_result"
    }
   ],
   "source": [
    "# aer_simulator is a type of quantum kernal which actually handles the simulation\n",
    "# of bits etc. There are some more options, but this is the default\n",
    "sim = Aer.get_backend('aer_simulator')\n",
    "result = sim.run(qc_output).result()\n",
    "counts = result.get_counts()\n",
    "plot_histogram(counts)\n"
   ]
  },
  {
   "cell_type": "code",
   "execution_count": 17,
   "id": "526254c1-71d4-4a94-8163-d01223bf2d57",
   "metadata": {},
   "outputs": [],
   "source": [
    "# Let's create a quick utility to measure the output of our circuit.\n",
    "def measure(circuit):\n",
    "    sim = Aer.get_backend('aer_simulator')\n",
    "    result = sim.run(circuit).result()\n",
    "    counts = result.get_counts()\n",
    "    plot_histogram(counts) \n",
    "    return counts"
   ]
  },
  {
   "cell_type": "markdown",
   "id": "e014c042-96e8-47c6-8f47-ff2c7a75dfea",
   "metadata": {},
   "source": [
    "Now, in order to add numbers, we must implement some interaction between qubits. The form\n",
    "which this manifests is (in our adding example) would be the Controlled-NOT (CNOT) gate.\n",
    "This is the quantum analogue of an XOR, as the function for a qubit to flip iff the control\n",
    "qubit is on. In qiskit, the name is `cx`."
   ]
  },
  {
   "cell_type": "code",
   "execution_count": 18,
   "id": "976f341d-dafe-48c2-9c46-683e58c6e5d0",
   "metadata": {},
   "outputs": [
    {
     "data": {
      "image/png": "[encoded data removed]",
      "text/plain": [
       "<Figure size 327.252x204.68 with 1 Axes>"
      ]
     },
     "execution_count": 18,
     "metadata": {},
     "output_type": "execute_result"
    }
   ],
   "source": [
    "# Create a two-qubit circuit.\n",
    "# The syntax for the below command is for the first parameters to be the number of qubits,\n",
    "# and the second to be the number of classical bits\n",
    "# Internally these are a list of QuantumRegister and/or ClassicalRegister objects\n",
    "qc = QuantumCircuit(2, 2)\n",
    "qc.x(0)\n",
    "qc.cx(0,1) # This is our CNOT, linking q_0 as the control, and q_1 as the target\n",
    "\n",
    "# Now we can measure the outputs.\n",
    "# The syntax for the measure statements are qc.measure(qubit, cbit)\n",
    "# where the first corrosponds to the qubit to measure, while the second to the classical bit\n",
    "# into which to the result is stored\n",
    "qc.measure(0,0)\n",
    "qc.measure(1,1)\n",
    "qc.draw(output='mpl')\n",
    "# qc.measure_all()\n",
    "# qc.draw(initial_state=False, cregbundle=False, output='mpl')"
   ]
  },
  {
   "cell_type": "code",
   "execution_count": 19,
   "id": "003623a1-a9a5-4719-ab23-78e731a01c74",
   "metadata": {},
   "outputs": [
    {
     "data": {
      "text/plain": [
       "{'11': 1024}"
      ]
     },
     "execution_count": 19,
     "metadata": {},
     "output_type": "execute_result"
    }
   ],
   "source": [
    "measure(qc)"
   ]
  },
  {
   "cell_type": "code",
   "execution_count": 25,
   "id": "46f3c685-59e8-4abf-b521-262b555cef91",
   "metadata": {},
   "outputs": [
    {
     "data": {
      "image/png": "[encoded data removed]",
      "text/plain": [
       "<Figure size 568.197x325.08 with 1 Axes>"
      ]
     },
     "execution_count": 25,
     "metadata": {},
     "output_type": "execute_result"
    }
   ],
   "source": [
    "# Four qubits, and two classical bits (for outputs)\n",
    "qc_ha = QuantumCircuit(4,2)\n",
    "\n",
    "# encode inputs in qubits 0 and 1\n",
    "qc_ha.x(0) # For a=0, remove the this line. For a=1, leave it.\n",
    "qc_ha.x(1) # For b=0, remove the this line. For b=1, leave it.\n",
    "\n",
    "# Fancy new construct for dividing our circuit by logical groups. E.g., by Encode, Compute, Measure\n",
    "qc_ha.barrier()\n",
    "\n",
    "# use cnots to write the XOR of the inputs on qubit 2\n",
    "qc_ha.cx(0,2)\n",
    "qc_ha.cx(1,2)\n",
    "# use ccx to write the AND of the inputs on qubit 3\n",
    "# Hang on! what's this new gate?\n",
    "# A: Toffoli. It's just like a CNOT, however it flips the target qubit iff the two control\n",
    "# qubits are in state |1>\n",
    "qc_ha.ccx(0,1,3)\n",
    "\n",
    "qc_ha.barrier()\n",
    "\n",
    "# extract outputs\n",
    "qc_ha.measure(2,0) # extract XOR value\n",
    "qc_ha.measure(3,1) # extract AND value\n",
    "\n",
    "qc_ha.draw(output='mpl')"
   ]
  },
  {
   "cell_type": "code",
   "execution_count": 23,
   "id": "e9236fe8-2638-4a06-8ec7-63be167c013b",
   "metadata": {},
   "outputs": [
    {
     "data": {
      "text/plain": [
       "{'10': 1024}"
      ]
     },
     "execution_count": 23,
     "metadata": {},
     "output_type": "execute_result"
    }
   ],
   "source": [
    "measure(qc_ha)"
   ]
  }
 ],
 "metadata": {
  "kernelspec": {
   "display_name": "Python 3 (ipykernel)",
   "language": "python",
   "name": "python3"
  },
  "language_info": {
   "codemirror_mode": {
    "name": "ipython",
    "version": 3
   },
   "file_extension": ".py",
   "mimetype": "text/x-python",
   "name": "python",
   "nbconvert_exporter": "python",
   "pygments_lexer": "ipython3",
   "version": "3.9.6"
  }
 },
 "nbformat": 4,
 "nbformat_minor": 5
}
