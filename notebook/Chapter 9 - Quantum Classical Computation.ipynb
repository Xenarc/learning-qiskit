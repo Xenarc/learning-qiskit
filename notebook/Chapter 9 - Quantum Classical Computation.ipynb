{
 "cells": [
  {
   "cell_type": "code",
   "execution_count": 1,
   "id": "dadcc361-32e2-4ccc-a0c9-f3db354fc4cb",
   "metadata": {},
   "outputs": [],
   "source": [
    "from qiskit import QuantumCircuit, QuantumRegister"
   ]
  },
  {
   "cell_type": "code",
   "execution_count": 5,
   "id": "33563f5d-5d49-45db-80ff-b4993c61a37b",
   "metadata": {},
   "outputs": [],
   "source": [
    "def draw(qc, measure=True, state_vector=False, bloch_sphere=False):\n",
    "    display(qc.draw(output='mpl'))\n",
    "    if(not measure or not state_vector and not bloch_sphere): return\n",
    "\n",
    "    # Measure\n",
    "    usim = Aer.get_backend('aer_simulator')\n",
    "    qc.save_statevector()\n",
    "    qobj = assemble(qc)\n",
    "    final_state = usim.run(qobj).result().get_statevector()\n",
    "    \n",
    "    # Print State Vector\n",
    "    if(measure and state_vector):\n",
    "        display(array_to_latex(final_state, prefix=\"\\\\text{Statevector = }\"))\n",
    "    \n",
    "    # Print Bloch Sphere of the inputs\n",
    "    if(measure and bloch_sphere):\n",
    "        display(plot_bloch_multivector(final_state))"
   ]
  },
  {
   "cell_type": "code",
   "execution_count": 3,
   "id": "a0043e73-d3b3-46b0-b525-51f883d53597",
   "metadata": {},
   "outputs": [],
   "source": [
    "input_bit = QuantumRegister(1, 'input')\n",
    "output_bit = QuantumRegister(1, 'output')\n",
    "garbage_bit = QuantumRegister(1, 'garbage')\n"
   ]
  },
  {
   "cell_type": "code",
   "execution_count": 6,
   "id": "2ba43edd-3eb5-4365-a36c-70c0c17b72f4",
   "metadata": {},
   "outputs": [
    {
     "data": {
      "image/png": "[encoded data removed]",
      "text/plain": [
       "<Figure size 241.269x144.48 with 1 Axes>"
      ]
     },
     "metadata": {},
     "output_type": "display_data"
    }
   ],
   "source": [
    "final_output_bit = QuantumRegister(1, 'final-output')\n",
    "\n",
    "copy = QuantumCircuit(output_bit, final_output_bit)\n",
    "copy.cx(output_bit, final_output_bit)\n",
    "\n",
    "draw(copy)"
   ]
  },
  {
   "cell_type": "markdown",
   "id": "e0b048fe-a7d5-4855-9135-2e2ccb971c86",
   "metadata": {},
   "source": [
    "The above circuit copies `output` to `final - output`, so that there is no extraneous entangling with garbage."
   ]
  }
 ],
 "metadata": {
  "kernelspec": {
   "display_name": "Python 3 (ipykernel)",
   "language": "python",
   "name": "python3"
  },
  "language_info": {
   "codemirror_mode": {
    "name": "ipython",
    "version": 3
   },
   "file_extension": ".py",
   "mimetype": "text/x-python",
   "name": "python",
   "nbconvert_exporter": "python",
   "pygments_lexer": "ipython3",
   "version": "3.9.6"
  }
 },
 "nbformat": 4,
 "nbformat_minor": 5
}
