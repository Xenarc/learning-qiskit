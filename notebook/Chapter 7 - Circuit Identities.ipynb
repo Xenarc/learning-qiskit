{
 "cells": [
  {
   "cell_type": "code",
   "execution_count": 34,
   "id": "2e43338d-a3b8-47ca-b0a4-8aca802fc4e5",
   "metadata": {},
   "outputs": [],
   "source": [
    "from qiskit import QuantumCircuit, Aer, assemble\n",
    "from qiskit.circuit import Gate\n",
    "from qiskit.visualization import plot_histogram, plot_bloch_multivector, array_to_latex\n",
    "\n",
    "import numpy as np\n",
    "from math import pi"
   ]
  },
  {
   "cell_type": "code",
   "execution_count": 58,
   "id": "3f63e49e-2295-4ab5-86b4-147eb39e8a68",
   "metadata": {},
   "outputs": [],
   "source": [
    "def draw(qc, measure=True, state_vector=False, bloch_sphere=False):\n",
    "    display(qc.draw(output='mpl'))\n",
    "    if(not measure or not state_vector and not bloch_sphere): return\n",
    "\n",
    "    # Measure\n",
    "    usim = Aer.get_backend('aer_simulator')\n",
    "    qc.save_statevector()\n",
    "    qobj = assemble(qc)\n",
    "    final_state = usim.run(qobj).result().get_statevector()\n",
    "    \n",
    "    # Print State Vector\n",
    "    if(measure and state_vector):\n",
    "        display(array_to_latex(final_state, prefix=\"\\\\text{Statevector = }\"))\n",
    "    \n",
    "    # Print Bloch Sphere of the inputs\n",
    "    if(measure and bloch_sphere):\n",
    "        display(plot_bloch_multivector(final_state))"
   ]
  },
  {
   "cell_type": "code",
   "execution_count": 36,
   "id": "a2406454-15d0-4062-9efd-6a2a21d53acc",
   "metadata": {},
   "outputs": [],
   "source": [
    "c = 0\n",
    "t = 1"
   ]
  },
  {
   "cell_type": "code",
   "execution_count": 37,
   "id": "44656500-7506-4100-9d92-eca0262c6230",
   "metadata": {},
   "outputs": [
    {
     "data": {
      "image/png": "[encoded data removed]",
      "text/plain": [
       "<Figure size 146.652x144.48 with 1 Axes>"
      ]
     },
     "metadata": {},
     "output_type": "display_data"
    }
   ],
   "source": [
    "qc = QuantumCircuit(2)\n",
    "\n",
    "# The controlled-Z\n",
    "qc.cz(c,t)\n",
    "draw(qc)"
   ]
  },
  {
   "cell_type": "code",
   "execution_count": 38,
   "id": "2d13016d-0011-46ad-8521-6db6df890b30",
   "metadata": {},
   "outputs": [
    {
     "data": {
      "image/png": "[encoded data removed]",
      "text/plain": [
       "<Figure size 146.652x144.48 with 1 Axes>"
      ]
     },
     "metadata": {},
     "output_type": "display_data"
    }
   ],
   "source": [
    "qc = QuantumCircuit(2)\n",
    "\n",
    "# The controlled-Y\n",
    "qc.cy(c,t)\n",
    "draw(qc)"
   ]
  },
  {
   "cell_type": "code",
   "execution_count": 39,
   "id": "d154ddb4-8138-47fd-9cad-f91c4509f1f9",
   "metadata": {},
   "outputs": [
    {
     "data": {
      "image/png": "[encoded data removed]",
      "text/plain": [
       "<Figure size 267.052x144.48 with 1 Axes>"
      ]
     },
     "metadata": {},
     "output_type": "display_data"
    }
   ],
   "source": [
    "qc = QuantumCircuit(2)\n",
    "\n",
    "# The controlled-Y\n",
    "qc.sdg(t)\n",
    "qc.cx(c,t)\n",
    "qc.s(t)\n",
    "draw(qc)"
   ]
  },
  {
   "cell_type": "code",
   "execution_count": 40,
   "id": "25f43caf-d960-4815-bd2a-2d1da63a5fc1",
   "metadata": {},
   "outputs": [
    {
     "data": {
      "image/png": "[encoded data removed]",
      "text/plain": [
       "<Figure size 267.052x144.48 with 1 Axes>"
      ]
     },
     "metadata": {},
     "output_type": "display_data"
    }
   ],
   "source": [
    "qc = QuantumCircuit(2)\n",
    "\n",
    "# The controlled-H\n",
    "qc.ry(pi/4,t)\n",
    "qc.cx(c,t)\n",
    "qc.ry(-pi/4,t)\n",
    "draw(qc)"
   ]
  },
  {
   "cell_type": "code",
   "execution_count": 41,
   "id": "bbda9432-34fc-4039-86a5-b0317e2d516d",
   "metadata": {},
   "outputs": [
    {
     "data": {
      "image/png": "[encoded data removed]",
      "text/plain": [
       "<Figure size 146.652x144.48 with 1 Axes>"
      ]
     },
     "metadata": {},
     "output_type": "display_data"
    }
   ],
   "source": [
    "qc = QuantumCircuit(2)\n",
    "# swaps states of qubits a and b\n",
    "qc.swap(0,1)\n",
    "draw(qc)"
   ]
  },
  {
   "cell_type": "code",
   "execution_count": 44,
   "id": "7301e99f-d763-42d4-ad87-2b4792ca6b8b",
   "metadata": {},
   "outputs": [
    {
     "data": {
      "image/png": "[encoded data removed]",
      "text/plain": [
       "<Figure size 267.052x144.48 with 1 Axes>"
      ]
     },
     "metadata": {},
     "output_type": "display_data"
    }
   ],
   "source": [
    "qc = QuantumCircuit(2)\n",
    "\n",
    "a=0\n",
    "b=1\n",
    "\n",
    "# swaps states of qubits a and b\n",
    "qc.cx(a,b)\n",
    "qc.cx(b,a)\n",
    "qc.cx(a,b)\n",
    "draw(qc)"
   ]
  },
  {
   "cell_type": "code",
   "execution_count": 46,
   "id": "4d77bc8f-e938-42dd-9e2a-cbc94f76591e",
   "metadata": {},
   "outputs": [
    {
     "data": {
      "image/png": "[encoded data removed]",
      "text/plain": [
       "<Figure size 327.252x144.48 with 1 Axes>"
      ]
     },
     "metadata": {},
     "output_type": "display_data"
    }
   ],
   "source": [
    "qc = QuantumCircuit(2)\n",
    "theta = pi # theta can be anything (pi chosen arbitrarily)\n",
    "qc.ry(theta/2,t)\n",
    "qc.cx(c,t)\n",
    "qc.ry(-theta/2,t)\n",
    "qc.cx(c,t)\n",
    "draw(qc)"
   ]
  },
  {
   "cell_type": "code",
   "execution_count": 54,
   "id": "2906562c-d673-4dfb-8862-cc759ae73813",
   "metadata": {},
   "outputs": [],
   "source": [
    "A = Gate('A', 1, [])\n",
    "B = Gate('B', 1, [])\n",
    "C = Gate('C', 1, [])\n",
    "alpha = 1 # arbitrarily define alpha to allow drawing of circuit\n",
    "c = 0\n",
    "t = 1"
   ]
  },
  {
   "cell_type": "code",
   "execution_count": 59,
   "id": "6e954948-5750-48d9-98ac-38c9e61e23d7",
   "metadata": {},
   "outputs": [
    {
     "data": {
      "image/png": "[encoded data removed]",
      "text/plain": [
       "<Figure size 387.452x144.48 with 1 Axes>"
      ]
     },
     "metadata": {},
     "output_type": "display_data"
    }
   ],
   "source": [
    "qc = QuantumCircuit(2)\n",
    "qc.append(C, [t])\n",
    "qc.cz(c,t)\n",
    "qc.append(B, [t])\n",
    "qc.cz(c,t)\n",
    "qc.append(A, [t])\n",
    "qc.p(alpha,c)\n",
    "draw(qc)"
   ]
  },
  {
   "cell_type": "code",
   "execution_count": null,
   "id": "fe46c313-126e-40f3-b306-099995ce83f7",
   "metadata": {},
   "outputs": [],
   "source": []
  }
 ],
 "metadata": {
  "kernelspec": {
   "display_name": "Python 3 (ipykernel)",
   "language": "python",
   "name": "python3"
  },
  "language_info": {
   "codemirror_mode": {
    "name": "ipython",
    "version": 3
   },
   "file_extension": ".py",
   "mimetype": "text/x-python",
   "name": "python",
   "nbconvert_exporter": "python",
   "pygments_lexer": "ipython3",
   "version": "3.9.6"
  }
 },
 "nbformat": 4,
 "nbformat_minor": 5
}
